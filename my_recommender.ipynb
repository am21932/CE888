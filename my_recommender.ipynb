{
 "cells": [
  {
   "cell_type": "code",
   "execution_count": 1,
   "metadata": {
    "colab": {},
    "colab_type": "code",
    "id": "Azx-162uO6Ki"
   },
   "outputs": [],
   "source": [
    "import pandas as pd\n",
    "import numpy as np\n",
    "from IPython.display import Image\n",
    "np.set_printoptions(precision = 3)"
   ]
  },
  {
   "cell_type": "code",
   "execution_count": 19,
   "metadata": {
    "colab": {
     "base_uri": "https://localhost:8080/",
     "height": 276
    },
    "colab_type": "code",
    "id": "iivDuU8FPA-6",
    "outputId": "5539609a-90e9-440b-8cee-4b886a2d572e"
   },
   "outputs": [
    {
     "name": "stdout",
     "output_type": "stream",
     "text": [
      "        1     2     3     4     5     6     7     8     9     10    11    12   \\\n",
      "0     -7.82  8.79 -9.66 -8.16 -7.52 -8.50 -9.85  4.17 -8.98 -4.76 -8.50 -6.75   \n",
      "1      4.08 -0.29  6.36  4.37 -2.38 -9.66 -0.73 -5.34  8.88  9.22  6.75  8.64   \n",
      "2       NaN   NaN   NaN   NaN  9.03  9.27  9.03  9.27   NaN   NaN  7.33  7.57   \n",
      "3       NaN  8.35   NaN   NaN  1.80  8.16 -2.82  6.21   NaN  1.84  7.33  6.60   \n",
      "4      8.50  4.61 -4.17 -5.39  1.36  1.60  7.04  4.61 -0.44  5.73  8.25  6.84   \n",
      "...     ...   ...   ...   ...   ...   ...   ...   ...   ...   ...   ...   ...   \n",
      "24978  0.44  7.43  9.08  2.33  3.20  6.75 -8.79 -0.53 -8.74  7.23 -0.53  5.63   \n",
      "24979  9.13 -8.16  8.59  9.08  0.87 -8.93 -3.50  5.78 -8.11  4.90  8.88 -8.69   \n",
      "24980   NaN   NaN   NaN   NaN -7.77   NaN  6.70 -6.75   NaN   NaN   NaN   NaN   \n",
      "24981   NaN   NaN   NaN   NaN -9.71   NaN  4.56 -8.30   NaN   NaN   NaN   NaN   \n",
      "24982  2.43  2.67 -3.98  4.27 -2.28  7.33  2.33  4.56  6.75  4.61 -3.16  7.38   \n",
      "\n",
      "        13    14    15    16    17    18    19    20    21    22    23    24   \\\n",
      "0     -7.18  8.45 -7.18 -7.52 -7.43 -9.81 -9.85 -9.85 -9.37  1.50 -4.37 -9.81   \n",
      "1      4.42  7.43  4.56 -0.97  4.66 -0.68  3.30 -1.21  0.87  8.64  8.35  9.17   \n",
      "2      9.37  6.17 -6.36 -6.89 -7.86  9.03  9.03  9.03  7.28   NaN  8.25   NaN   \n",
      "3      6.31  8.11 -7.23 -6.65  1.17 -6.60 -3.64 -2.09  5.34   NaN   NaN   NaN   \n",
      "4     -3.93  7.23 -2.33 -9.66  2.72 -1.36  2.57  4.51  8.20  6.12  8.30 -1.26   \n",
      "...     ...   ...   ...   ...   ...   ...   ...   ...   ...   ...   ...   ...   \n",
      "24978 -7.14 -4.08 -3.50 -8.20 -3.98 -9.22 -0.15 -6.46  5.63 -0.92 -2.91 -4.17   \n",
      "24979 -7.48 -8.83 -1.75  6.60  3.54  1.50  7.67 -0.44  9.22  8.74  9.03  9.08   \n",
      "24980 -6.46 -1.65 -6.80 -6.41 -6.99  7.23  6.75 -6.99  6.55   NaN   NaN   NaN   \n",
      "24981 -9.47   NaN  3.45 -0.92 -4.51 -4.13 -5.73 -9.51  2.82   NaN   NaN   NaN   \n",
      "24982 -8.20  9.08 -8.83 -7.77  5.49  1.36 -9.32  7.04  7.28  3.20 -0.05 -1.26   \n",
      "\n",
      "        25    26    27    28    29    30    31    32    33    34    35    36   \\\n",
      "0     -8.50  1.12  7.82  2.86  9.13 -7.43  2.14 -4.08 -9.08  7.82  5.05  4.95   \n",
      "1      0.05  7.57  4.71  0.87 -0.39  6.99  6.50 -0.92  7.14  9.03 -1.80  0.73   \n",
      "2       NaN  7.48  7.28  7.28  8.93   NaN  6.17  7.28   NaN   NaN  8.98  7.33   \n",
      "3       NaN  2.91  3.93  6.75  6.60   NaN  6.65 -6.12   NaN  7.57  6.21  6.65   \n",
      "4      7.77  1.89 -1.17  5.68  8.45  4.61  8.06 -9.47  7.28  5.68  2.48  3.20   \n",
      "...     ...   ...   ...   ...   ...   ...   ...   ...   ...   ...   ...   ...   \n",
      "24978  2.82  3.40  8.64  6.84  6.80 -0.87  7.38 -3.50  8.88  7.43  5.39  2.23   \n",
      "24979  8.93  3.74  3.20 -9.17 -8.98  8.79 -7.67 -3.06  9.13  8.40 -0.63 -7.18   \n",
      "24980   NaN  0.49 -0.53 -6.94 -0.49   NaN  6.46 -0.53   NaN   NaN -7.86 -0.34   \n",
      "24981   NaN -0.49  2.91  2.62  8.30   NaN  3.06  5.44   NaN   NaN -0.68  2.04   \n",
      "24982  6.94  5.49  1.21  5.00  7.38  2.33  3.35  6.17 -4.81  3.79  6.26  8.54   \n",
      "\n",
      "        37    38    39    40    41    42    43    44    45    46    47    48   \\\n",
      "0     -9.17 -8.40 -8.40 -8.40 -8.11 -9.13 -9.03 -9.08 -7.14 -6.26  3.79 -0.10   \n",
      "1      7.09  3.40 -0.87  7.91  7.82 -3.83  8.64  8.98 -4.32 -3.20 -4.90 -0.92   \n",
      "2       NaN  6.17  9.08  7.33  7.52  9.27  9.27   NaN  9.27   NaN  6.17  7.33   \n",
      "3       NaN -8.30  7.18  2.82   NaN  1.55   NaN   NaN   NaN  6.84  6.84 -3.98   \n",
      "4     -1.26  6.80  4.51  2.48  0.34  6.84  0.19 -8.74  5.24  6.31  8.06  1.26   \n",
      "...     ...   ...   ...   ...   ...   ...   ...   ...   ...   ...   ...   ...   \n",
      "24978 -0.68  3.40 -0.58  4.42  8.74  6.41 -6.36 -4.51  2.04  8.74  3.30  8.01   \n",
      "24979  0.58  8.88  9.27  8.50  9.13  8.64  8.93  8.74  2.77  8.93 -9.03  8.06   \n",
      "24980   NaN -6.94   NaN   NaN  1.12  7.04   NaN   NaN   NaN  0.29  0.97 -1.70   \n",
      "24981   NaN   NaN  1.55   NaN   NaN  3.59   NaN   NaN   NaN  1.55   NaN -8.11   \n",
      "24982  5.29  1.12  0.83  0.19 -2.96  3.35  1.55 -0.53  4.08  2.04  8.88 -6.12   \n",
      "\n",
      "        49    50    51    52    53    54    55    56    57    58    59    60   \\\n",
      "0      3.93  4.13 -8.69 -7.14  3.20  8.30 -4.56  0.92 -9.13 -9.42  2.82 -8.64   \n",
      "1     -1.46  3.64  3.16  9.03  0.97 -1.31 -6.50 -3.20  8.64 -2.14  0.10  9.03   \n",
      "2      9.08  7.28   NaN   NaN  7.28  7.33   NaN  7.23   NaN   NaN   NaN  9.27   \n",
      "3      6.99  3.45   NaN  6.94  1.55  7.67   NaN  6.55   NaN   NaN   NaN   NaN   \n",
      "4      4.51 -0.05  4.42  3.06  8.93  7.82  1.75  8.11 -8.06 -9.17  4.95  3.35   \n",
      "...     ...   ...   ...   ...   ...   ...   ...   ...   ...   ...   ...   ...   \n",
      "24978  7.82 -1.89  3.25  2.18  1.26  8.35  3.35 -2.14 -7.91 -6.46 -3.40  5.58   \n",
      "24979  7.77  7.48  8.20  8.83 -7.48 -7.77  8.64 -8.88  8.83  8.93 -6.89  9.17   \n",
      "24980  6.55 -0.58  7.38   NaN -0.53 -1.94   NaN  1.80   NaN   NaN   NaN   NaN   \n",
      "24981  2.82  4.61   NaN   NaN  5.00 -0.63  3.45 -6.46   NaN   NaN   NaN   NaN   \n",
      "24982  6.84  8.98  0.83  4.81  7.48  8.25  6.36  8.35  1.41 -0.49  3.25 -0.58   \n",
      "\n",
      "        61    62    63    64    65    66    67    68    69    70    71    72   \\\n",
      "0      8.59  3.59 -6.84 -9.03  2.82 -1.36 -9.08  8.30  5.68 -4.81   NaN   NaN   \n",
      "1     -6.70 -3.35 -9.03  4.47  4.08 -3.83  8.74  1.12  0.78  7.52 -5.00  2.77   \n",
      "2      6.46  7.28   NaN   NaN  7.04  7.28   NaN  7.28  8.25   NaN   NaN   NaN   \n",
      "3      0.00 -3.69   NaN   NaN  7.82  0.24   NaN  7.28 -2.33   NaN   NaN   NaN   \n",
      "4      7.38  6.17  4.71 -2.28  7.38  4.56  7.14  4.22  3.01  3.83   NaN   NaN   \n",
      "...     ...   ...   ...   ...   ...   ...   ...   ...   ...   ...   ...   ...   \n",
      "24978  8.59  3.45  0.87  9.27 -4.66  5.73 -0.49  8.35  1.94  5.00 -9.66  8.98   \n",
      "24979  2.77  8.11 -7.96  8.93 -0.87 -5.87  8.88 -1.12 -8.74  8.74   NaN   NaN   \n",
      "24980  0.49 -0.24   NaN   NaN -3.11 -6.65   NaN -0.58  6.31   NaN   NaN -7.86   \n",
      "24981 -8.83 -0.78   NaN   NaN  4.51 -2.48   NaN  1.26  5.78   NaN   NaN   NaN   \n",
      "24982  6.17 -0.29  0.83  4.22  4.27  7.38  6.21  7.48  5.15  3.20  6.26   NaN   \n",
      "\n",
      "        73    74    75    76    77    78    79    80    81    82    83    84   \\\n",
      "0       NaN   NaN   NaN   NaN   NaN -9.42   NaN   NaN   NaN -7.72   NaN   NaN   \n",
      "1      8.30  7.77  7.33  6.21  7.72  8.98  8.64  8.20  3.93  4.85  4.85  6.07   \n",
      "2       NaN   NaN   NaN  8.93   NaN   NaN   NaN  9.08   NaN   NaN   NaN   NaN   \n",
      "3       NaN   NaN   NaN   NaN   NaN   NaN   NaN   NaN   NaN   NaN   NaN   NaN   \n",
      "4       NaN   NaN   NaN   NaN  4.13   NaN   NaN   NaN  5.24  5.92  0.87  7.28   \n",
      "...     ...   ...   ...   ...   ...   ...   ...   ...   ...   ...   ...   ...   \n",
      "24978  8.98 -9.81  9.13  9.08  9.08  3.98  0.73  9.03  8.98  9.22  8.93  9.13   \n",
      "24979   NaN   NaN   NaN  4.90   NaN   NaN   NaN   NaN -0.29  0.92 -0.78  0.15   \n",
      "24980   NaN   NaN   NaN   NaN   NaN   NaN   NaN   NaN   NaN   NaN   NaN   NaN   \n",
      "24981   NaN   NaN -4.56   NaN   NaN   NaN   NaN  3.16   NaN   NaN   NaN   NaN   \n",
      "24982   NaN   NaN   NaN   NaN   NaN   NaN   NaN   NaN   NaN   NaN   NaN   NaN   \n",
      "\n",
      "        85    86    87    88    89    90    91    92    93    94    95    96   \\\n",
      "0       NaN   NaN   NaN   NaN   NaN   NaN  2.82   NaN   NaN   NaN   NaN   NaN   \n",
      "1      8.98  4.51 -0.05  3.69  4.56  0.58  2.82 -4.95 -0.29  7.86 -0.19 -2.14   \n",
      "2       NaN   NaN   NaN   NaN   NaN  9.03   NaN   NaN   NaN  9.08   NaN   NaN   \n",
      "3      0.63   NaN   NaN -2.33   NaN   NaN   NaN   NaN   NaN  0.53   NaN   NaN   \n",
      "4      3.93 -0.63  6.31  4.71  2.82  2.96  5.19  5.58  4.27  5.19  5.73  1.55   \n",
      "...     ...   ...   ...   ...   ...   ...   ...   ...   ...   ...   ...   ...   \n",
      "24978  9.27 -1.99 -9.95 -9.90  9.13  8.83  8.83 -1.21  9.22 -6.70  8.45  9.03   \n",
      "24979 -0.10  0.00 -0.19 -0.87 -1.36 -0.58 -1.17 -5.73 -1.46  0.24  9.22 -8.20   \n",
      "24980   NaN   NaN   NaN   NaN   NaN   NaN   NaN   NaN   NaN   NaN   NaN   NaN   \n",
      "24981   NaN   NaN   NaN   NaN   NaN   NaN   NaN   NaN   NaN   NaN   NaN   NaN   \n",
      "24982   NaN   NaN  7.23   NaN   NaN   NaN   NaN   NaN   NaN   NaN   NaN   NaN   \n",
      "\n",
      "        97    98    99    100  \n",
      "0     -5.63   NaN   NaN   NaN  \n",
      "1      3.06  0.34 -4.32  1.07  \n",
      "2       NaN   NaN   NaN   NaN  \n",
      "3       NaN   NaN   NaN   NaN  \n",
      "4      3.11  6.55  1.80  1.60  \n",
      "...     ...   ...   ...   ...  \n",
      "24978  6.55  8.69  8.79  7.43  \n",
      "24979 -7.23 -8.59  9.13  8.45  \n",
      "24980   NaN   NaN   NaN   NaN  \n",
      "24981   NaN   NaN   NaN   NaN  \n",
      "24982   NaN   NaN   NaN   NaN  \n",
      "\n",
      "[24983 rows x 100 columns]\n"
     ]
    }
   ],
   "source": [
    "pd.set_option('display.max_columns', 101)\n",
    "df = pd.read_csv('https://raw.githubusercontent.com/albanda/CE888/master/lab4-recommender/jester-data-1.csv', header=None)\n",
    "# print(df)\n",
    "df = df.replace(99.00, np.NaN)\n",
    "df = df.iloc[:,1:]\n",
    "print(df)"
   ]
  },
  {
   "cell_type": "code",
   "execution_count": 32,
   "metadata": {},
   "outputs": [
    {
     "data": {
      "text/plain": [
       "1      0.904573\n",
       "2      0.208460\n",
       "3      0.316574\n",
       "4     -1.449114\n",
       "5      0.403556\n",
       "6      1.594447\n",
       "7     -0.429662\n",
       "8     -0.624085\n",
       "9     -0.557031\n",
       "10     1.301231\n",
       "11     1.805797\n",
       "12     1.449290\n",
       "13    -1.762882\n",
       "14     1.396334\n",
       "15    -1.706201\n",
       "16    -3.104818\n",
       "17    -1.115141\n",
       "18    -0.635103\n",
       "19     0.154227\n",
       "20    -0.933997\n",
       "21     2.095626\n",
       "22     0.868662\n",
       "23     0.109192\n",
       "24    -1.687420\n",
       "25     0.382373\n",
       "26     1.286232\n",
       "27     3.189821\n",
       "28     1.518830\n",
       "29     2.972455\n",
       "30    -0.436493\n",
       "31     2.198943\n",
       "32     3.155988\n",
       "33    -1.368648\n",
       "34     0.859494\n",
       "35     3.006351\n",
       "36     3.312500\n",
       "37    -1.363987\n",
       "38     1.300479\n",
       "39     1.067337\n",
       "40     0.998635\n",
       "41    -0.320500\n",
       "42     1.966875\n",
       "43    -0.924856\n",
       "44    -2.111891\n",
       "45     1.108616\n",
       "46     1.500232\n",
       "47     1.559535\n",
       "48     1.825884\n",
       "49     2.771298\n",
       "50     3.665085\n",
       "51    -0.731653\n",
       "52    -0.133121\n",
       "53     2.939463\n",
       "54     2.735697\n",
       "55     0.505731\n",
       "56     1.764647\n",
       "57    -1.990664\n",
       "58    -3.833880\n",
       "59    -0.578010\n",
       "60    -0.325394\n",
       "61     2.459180\n",
       "62     2.976021\n",
       "63     0.246998\n",
       "64    -0.667938\n",
       "65     2.273820\n",
       "66     2.541538\n",
       "67    -0.863868\n",
       "68     2.639132\n",
       "69     2.559463\n",
       "70     0.418405\n",
       "71    -0.687494\n",
       "72     2.757389\n",
       "73     1.082492\n",
       "74    -1.553548\n",
       "75    -0.270715\n",
       "76     2.520047\n",
       "77     0.715392\n",
       "78     1.751897\n",
       "79     0.091667\n",
       "80     1.122074\n",
       "81     1.836562\n",
       "82     0.902718\n",
       "83     2.028400\n",
       "84     0.694418\n",
       "85     0.918927\n",
       "86     0.344681\n",
       "87     1.900667\n",
       "88     2.109940\n",
       "89     3.574720\n",
       "90     0.612016\n",
       "91     2.038527\n",
       "92     1.179744\n",
       "93     2.504041\n",
       "94     1.173482\n",
       "95     1.039130\n",
       "96     1.528003\n",
       "97     1.673750\n",
       "98     0.767692\n",
       "99    -0.031244\n",
       "100    1.354711\n",
       "dtype: float64"
      ]
     },
     "execution_count": 32,
     "metadata": {},
     "output_type": "execute_result"
    }
   ],
   "source": [
    "pd.set_option('display.max_columns', 101)\n",
    "pd.set_option('display.max_rows', 101)\n",
    "\n",
    "df.mean()"
   ]
  },
  {
   "cell_type": "code",
   "execution_count": null,
   "metadata": {},
   "outputs": [],
   "source": []
  },
  {
   "cell_type": "code",
   "execution_count": null,
   "metadata": {},
   "outputs": [],
   "source": []
  },
  {
   "cell_type": "code",
   "execution_count": 35,
   "metadata": {},
   "outputs": [
    {
     "data": {
      "text/plain": [
       "3.4"
      ]
     },
     "execution_count": 35,
     "metadata": {},
     "output_type": "execute_result"
    }
   ],
   "source": [
    "df.iloc[22189, 37]"
   ]
  },
  {
   "cell_type": "code",
   "execution_count": 5,
   "metadata": {},
   "outputs": [],
   "source": [
    "import numpy as np\n",
    "\n",
    "\n",
    "def sgd(iterations):\n",
    "    \"\"\" Iterate over all users and all items and train for \n",
    "        a certain number of iterations\n",
    "    \"\"\"\n",
    "    mse_history = []\n",
    "    for iteration in range(iterations):\n",
    "        error = []\n",
    "        \n",
    "        ### YOUR CODE (inner loop) HERE\n",
    "        for user_id in range(latent_user_preferences.shape[0]):\n",
    "            for item_id in range(latent_item_features.shape[0]):\n",
    "                rating = user_ratings[user_id, item_id]\n",
    "                if not np.isnan(rating) and rating!=99:\n",
    "                    err = train(user_id, item_id, rating)\n",
    "                    error.append(err)\n",
    "        \n",
    "        mse = (np.array(error) ** 2).mean()   \n",
    "        if (iteration % 10) == 0:\n",
    "            print('Iteration %d/%d:    MSE=%.3f' % (iteration, iterations, mse))\n",
    "            mse_history.append(mse)\n",
    "    return mse_history"
   ]
  },
  {
   "cell_type": "code",
   "execution_count": 6,
   "metadata": {},
   "outputs": [
    {
     "ename": "NameError",
     "evalue": "name 'latent_user_preferences' is not defined",
     "output_type": "error",
     "traceback": [
      "\u001b[0;31m---------------------------------------------------------------------------\u001b[0m",
      "\u001b[0;31mNameError\u001b[0m                                 Traceback (most recent call last)",
      "\u001b[0;32m/var/folders/g6/cbrxd1b14jj3gqydktn3pb_m0000gn/T/ipykernel_29129/3352110175.py\u001b[0m in \u001b[0;36m<module>\u001b[0;34m\u001b[0m\n\u001b[0;32m----> 1\u001b[0;31m \u001b[0msgd\u001b[0m\u001b[0;34m(\u001b[0m\u001b[0;36m100\u001b[0m\u001b[0;34m)\u001b[0m\u001b[0;34m\u001b[0m\u001b[0;34m\u001b[0m\u001b[0m\n\u001b[0m",
      "\u001b[0;32m/var/folders/g6/cbrxd1b14jj3gqydktn3pb_m0000gn/T/ipykernel_29129/1890597283.py\u001b[0m in \u001b[0;36msgd\u001b[0;34m(iterations)\u001b[0m\n\u001b[1;32m     11\u001b[0m \u001b[0;34m\u001b[0m\u001b[0m\n\u001b[1;32m     12\u001b[0m         \u001b[0;31m### YOUR CODE (inner loop) HERE\u001b[0m\u001b[0;34m\u001b[0m\u001b[0;34m\u001b[0m\u001b[0m\n\u001b[0;32m---> 13\u001b[0;31m         \u001b[0;32mfor\u001b[0m \u001b[0muser_id\u001b[0m \u001b[0;32min\u001b[0m \u001b[0mrange\u001b[0m\u001b[0;34m(\u001b[0m\u001b[0mlatent_user_preferences\u001b[0m\u001b[0;34m.\u001b[0m\u001b[0mshape\u001b[0m\u001b[0;34m[\u001b[0m\u001b[0;36m0\u001b[0m\u001b[0;34m]\u001b[0m\u001b[0;34m)\u001b[0m\u001b[0;34m:\u001b[0m\u001b[0;34m\u001b[0m\u001b[0;34m\u001b[0m\u001b[0m\n\u001b[0m\u001b[1;32m     14\u001b[0m             \u001b[0;32mfor\u001b[0m \u001b[0mitem_id\u001b[0m \u001b[0;32min\u001b[0m \u001b[0mrange\u001b[0m\u001b[0;34m(\u001b[0m\u001b[0mlatent_item_features\u001b[0m\u001b[0;34m.\u001b[0m\u001b[0mshape\u001b[0m\u001b[0;34m[\u001b[0m\u001b[0;36m0\u001b[0m\u001b[0;34m]\u001b[0m\u001b[0;34m)\u001b[0m\u001b[0;34m:\u001b[0m\u001b[0;34m\u001b[0m\u001b[0;34m\u001b[0m\u001b[0m\n\u001b[1;32m     15\u001b[0m                 \u001b[0mrating\u001b[0m \u001b[0;34m=\u001b[0m \u001b[0muser_ratings\u001b[0m\u001b[0;34m[\u001b[0m\u001b[0muser_id\u001b[0m\u001b[0;34m,\u001b[0m \u001b[0mitem_id\u001b[0m\u001b[0;34m]\u001b[0m\u001b[0;34m\u001b[0m\u001b[0;34m\u001b[0m\u001b[0m\n",
      "\u001b[0;31mNameError\u001b[0m: name 'latent_user_preferences' is not defined"
     ]
    }
   ],
   "source": [
    "sgd(100)"
   ]
  },
  {
   "cell_type": "code",
   "execution_count": null,
   "metadata": {},
   "outputs": [],
   "source": []
  },
  {
   "cell_type": "code",
   "execution_count": null,
   "metadata": {},
   "outputs": [],
   "source": []
  },
  {
   "cell_type": "code",
   "execution_count": 20,
   "metadata": {
    "colab": {
     "base_uri": "https://localhost:8080/",
     "height": 36
    },
    "colab_type": "code",
    "id": "RoRa5BXQPL3f",
    "outputId": "417b9ccd-597c-4056-ee51-9d9a147ec000"
   },
   "outputs": [
    {
     "name": "stdout",
     "output_type": "stream",
     "text": [
      "(24983, 100)\n"
     ]
    }
   ],
   "source": [
    "arr = df.values\n",
    "print(arr.shape)"
   ]
  },
  {
   "cell_type": "code",
   "execution_count": 21,
   "metadata": {
    "colab": {
     "base_uri": "https://localhost:8080/",
     "height": 36
    },
    "colab_type": "code",
    "id": "BSw1IHSyPTcL",
    "outputId": "112fd410-a3c9-4169-c660-2a88eea97d7d"
   },
   "outputs": [
    {
     "name": "stdout",
     "output_type": "stream",
     "text": [
      "2498300 (2498300,)\n"
     ]
    }
   ],
   "source": [
    "rated = np.where(arr!=99)\n",
    "print(len(rated[0]), rated[1].shape)"
   ]
  },
  {
   "cell_type": "code",
   "execution_count": 22,
   "metadata": {
    "colab": {},
    "colab_type": "code",
    "id": "811TzpLFPlaN"
   },
   "outputs": [],
   "source": [
    "def replace(orig, percentage=0.1):\n",
    "  \"\"\"\n",
    "  Replaces 'percentage'% of the original values in 'orig' with 99's\n",
    "  :param orig: original data array\n",
    "  :param percentage: percentage of values to replace (0<percentage<1)\n",
    "  \"\"\"\n",
    "  new_data = orig.copy()\n",
    "#   rated = np.where(arr!=99)\n",
    "  rated = np.where(arr!=np.NaN)\n",
    "  n_rated = len(rated[0])\n",
    "  idx = np.random.choice(n_rated, size=int(percentage*n_rated), replace=False)\n",
    "  new_data[rated[0][idx], rated[1][idx]] = 99.00\n",
    "  return new_data, (rated[0][idx], rated[1][idx])\n"
   ]
  },
  {
   "cell_type": "code",
   "execution_count": 23,
   "metadata": {
    "colab": {},
    "colab_type": "code",
    "id": "VZ3dnTF3RFW4"
   },
   "outputs": [],
   "source": [
    "new_arr, idx = replace(arr, 0.1)"
   ]
  },
  {
   "cell_type": "code",
   "execution_count": 24,
   "metadata": {},
   "outputs": [
    {
     "data": {
      "text/plain": [
       "array([[99.  ,  8.79, -9.66, ...,   nan, 99.  ,   nan],\n",
       "       [ 4.08, -0.29,  6.36, ...,  0.34, -4.32,  1.07],\n",
       "       [  nan,   nan,   nan, ...,   nan,   nan,   nan],\n",
       "       ...,\n",
       "       [  nan, 99.  ,   nan, ..., 99.  ,   nan,   nan],\n",
       "       [99.  ,   nan, 99.  , ...,   nan,   nan, 99.  ],\n",
       "       [ 2.43,  2.67, -3.98, ...,   nan,   nan,   nan]])"
      ]
     },
     "execution_count": 24,
     "metadata": {},
     "output_type": "execute_result"
    }
   ],
   "source": [
    "new_arr"
   ]
  },
  {
   "cell_type": "code",
   "execution_count": 25,
   "metadata": {},
   "outputs": [
    {
     "data": {
      "text/plain": [
       "(array([16832,  4276, 18352, ..., 15841, 17121,  1211]),\n",
       " array([ 8, 26, 58, ..., 72, 46, 92]))"
      ]
     },
     "execution_count": 25,
     "metadata": {},
     "output_type": "execute_result"
    }
   ],
   "source": [
    "idx"
   ]
  },
  {
   "cell_type": "code",
   "execution_count": null,
   "metadata": {
    "colab": {
     "base_uri": "https://localhost:8080/",
     "height": 36
    },
    "colab_type": "code",
    "id": "hj0yl47dRwKy",
    "outputId": "242e8ca0-65ac-47bf-a081-fd30119c8d03"
   },
   "outputs": [],
   "source": [
    "\n",
    "arr[idx[0][0], idx[1][0]]"
   ]
  },
  {
   "cell_type": "code",
   "execution_count": null,
   "metadata": {
    "colab": {
     "base_uri": "https://localhost:8080/",
     "height": 36
    },
    "colab_type": "code",
    "id": "NTpRwdPXR1GZ",
    "outputId": "4daf2ffb-793c-4281-a427-8d78bdcbe16d"
   },
   "outputs": [],
   "source": [
    "new_arr[idx[0][0], idx[1][0]]"
   ]
  }
 ],
 "metadata": {
  "colab": {
   "name": "Untitled0.ipynb",
   "provenance": []
  },
  "kernelspec": {
   "display_name": "Python 3 (ipykernel)",
   "language": "python",
   "name": "python3"
  },
  "language_info": {
   "codemirror_mode": {
    "name": "ipython",
    "version": 3
   },
   "file_extension": ".py",
   "mimetype": "text/x-python",
   "name": "python",
   "nbconvert_exporter": "python",
   "pygments_lexer": "ipython3",
   "version": "3.9.7"
  }
 },
 "nbformat": 4,
 "nbformat_minor": 1
}
